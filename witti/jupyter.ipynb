{
 "metadata": {
  "language_info": {
   "codemirror_mode": {
    "name": "ipython",
    "version": 3
   },
   "file_extension": ".py",
   "mimetype": "text/x-python",
   "name": "python",
   "nbconvert_exporter": "python",
   "pygments_lexer": "ipython3",
   "version": "3.7.7"
  },
  "orig_nbformat": 2,
  "kernelspec": {
   "name": "python3",
   "display_name": "Python 3.7.7 64-bit ('base': conda)",
   "metadata": {
    "interpreter": {
     "hash": "2524ca7dc7c8fc9e0088cb11f2f79bf28d27f61a0b38e829bf18ddd71e9f772e"
    }
   }
  }
 },
 "nbformat": 4,
 "nbformat_minor": 2,
 "cells": [
  {
   "cell_type": "code",
   "execution_count": 9,
   "metadata": {},
   "outputs": [],
   "source": [
    "import numpy\n",
    "import re\n",
    "p = []\n",
    "w = []\n",
    "d = []\n",
    "with open(\"data.txt\",\"r\") as data:\n",
    "    for n in range(10):\n",
    "        s=(data.readline()).split()\n",
    "        p.append(s[0])\n",
    "        w.append(s[1])\n",
    "        d.append(s[2])"
   ]
  },
  {
   "cell_type": "code",
   "execution_count": 10,
   "metadata": {},
   "outputs": [],
   "source": []
  }
 ]
}