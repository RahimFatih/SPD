{
 "metadata": {
  "language_info": {
   "codemirror_mode": {
    "name": "ipython",
    "version": 3
   },
   "file_extension": ".py",
   "mimetype": "text/x-python",
   "name": "python",
   "nbconvert_exporter": "python",
   "pygments_lexer": "ipython3",
   "version": "3.7.7"
  },
  "orig_nbformat": 2,
  "kernelspec": {
   "name": "python377jvsc74a57bd02524ca7dc7c8fc9e0088cb11f2f79bf28d27f61a0b38e829bf18ddd71e9f772e",
   "display_name": "Python 3.7.7 64-bit ('base': conda)"
  }
 },
 "nbformat": 4,
 "nbformat_minor": 2,
 "cells": [
  {
   "cell_type": "code",
   "execution_count": 48,
   "metadata": {},
   "outputs": [],
   "source": [
    "import numpy\n",
    "import re\n",
    "import itertools\n",
    "p = []\n",
    "w = []\n",
    "d = []\n",
    "with open(\"dataPY.txt\",\"r\") as data:\n",
    "    for n in range(10):\n",
    "        s=(data.readline()).split()\n",
    "        p.append(int(s[0]))\n",
    "        w.append(int(s[1]))\n",
    "        d.append(int(s[2]))"
   ]
  },
  {
   "cell_type": "code",
   "execution_count": 50,
   "metadata": {},
   "outputs": [],
   "source": [
    "wektorIndeksow=range(0,len(p))\n",
    "listaPermutacji=list(itertools.permutations(wektorIndeksow))\n",
    "sumaCzasuMin = 99999999\n",
    "sumaKarMin = 99999999\n",
    "permutacjaMin = ()"
   ]
  },
  {
   "cell_type": "code",
   "execution_count": 51,
   "metadata": {},
   "outputs": [
    {
     "output_type": "stream",
     "name": "stdout",
     "text": [
      "(0, 2, 5, 4, 8, 1, 3, 6, 7, 9)\n536\n0\n"
     ]
    }
   ],
   "source": [
    "for permutacja in listaPermutacji:\n",
    "    sumaKar=0\n",
    "    sumaCzasu=0\n",
    "    for proces in permutacja:\n",
    "        sumaKar=sumaKar + max(0, (sumaCzasu-d[proces])*w[proces])\n",
    "        sumaCzasu+=p[proces]\n",
    "    if sumaKar<sumaKarMin:\n",
    "        permutacjaMin = permutacja\n",
    "        sumaCzasuMin = sumaCzasu\n",
    "        sumaKarMin = sumaKar\n",
    "print(permutacjaMin)\n",
    "print(sumaCzasuMin)\n",
    "print(sumaKarMin)"
   ]
  },
  {
   "cell_type": "code",
   "execution_count": null,
   "metadata": {},
   "outputs": [],
   "source": []
  }
 ]
}